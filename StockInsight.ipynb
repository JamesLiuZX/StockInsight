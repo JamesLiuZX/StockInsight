{
 "cells": [
  {
   "cell_type": "code",
   "execution_count": null,
   "metadata": {},
   "outputs": [],
   "source": [
    "# Step 0: Setup the environment \n",
    "!pip install finnhub-python"
   ]
  },
  {
   "cell_type": "code",
   "execution_count": null,
   "metadata": {},
   "outputs": [],
   "source": [
    "import finnhub\n",
    "finnhub_client = finnhub.Client(api_key=\"cii0s8pr01qik1h4dmj0cii0s8pr01qik1h4dmjg\")"
   ]
  },
  {
   "cell_type": "code",
   "execution_count": null,
   "metadata": {},
   "outputs": [],
   "source": [
    "# Notes:\n",
    "# There's a lot of data present, but its hardly digestable for the average user. \n",
    "# We assign scores such as innovation score, profitability score, social media presence, growth score, etc. to each company\n",
    "# It's kind of like ranking universities, the data is not 100% accurate or transparent, but it gives a good idea of the company's performance\n",
    "# We can use this data to rank companies and then use that to rank the stocks of those companies, and generate learning points for each companies\n",
    "# I'll illustrate this with an example below\n",
    "\n",
    "# Respective APIs for each of the scores:\n",
    "# Innovation Score: USPTO patent count \n",
    "# Profitability Score: Earnings Calendar (revenue actual - revenue estimate) (Update: Not available)\n",
    "# Social Media Presence: Sentiment \n",
    "# Growth Score: Financial reports\n",
    "# Insider Trends: Insider Sentiment + Insider Trading\n",
    "\n",
    "# Note: USPTO and earnings calendar aren't updated this year, may need other APIs."
   ]
  },
  {
   "cell_type": "code",
   "execution_count": 39,
   "metadata": {},
   "outputs": [
    {
     "name": "stdout",
     "output_type": "stream",
     "text": [
      "0\n",
      "{'NVDA': 0, 'AVGO': 0, 'AMD': 0, 'TXN': 0, 'INTC': 0, 'QCOM': 0, 'ADI': 0, 'MU': 0, 'MRVL': 0, 'MCHP': 0}\n"
     ]
    }
   ],
   "source": [
    "startDate = \"2022-02-01\"\n",
    "endDate = \"2022-06-01\"\n",
    "patentRes = finnhub_client.stock_uspto_patent('NVDA', _from=startDate, to=endDate) \n",
    "print(len(patentRes['data'])) #169 patents applied by NVDA over the last year \n",
    "\n",
    "# Get number of patents registered by a company within a certain time period.\n",
    "def get_patent_no(ticker, from_date, to_date):\n",
    "    patentRes = finnhub_client.stock_uspto_patent(ticker, _from=from_date, to=to_date)\n",
    "    return len(patentRes['data'])\n",
    "\n",
    "# Get innovative score relative to peers in the same industry\n",
    "peers = finnhub_client.company_peers('NVDA')\n",
    "peerPatentCount = []\n",
    "for peer in peers:\n",
    "    peerPatentCount.append(get_patent_no(peer, startDate, endDate))\n",
    "dictionary = dict(zip(peers, peerPatentCount))\n",
    "\n",
    "# Sort by patents applied for, and you see why NVDA > AMD\n",
    "sorted_dict = dict(sorted(dictionary.items(), key=lambda item: item[1], reverse=True))\n",
    "print(sorted_dict)\n"
   ]
  },
  {
   "cell_type": "code",
   "execution_count": null,
   "metadata": {},
   "outputs": [],
   "source": [
    "# Now, we want to collate all these scores under the company name, and then pick the outstanding variables (> 2s.d.) to display the learning points (why they're trending).\n",
    "# Step 1: Get the list of tickers from the S&P 500\n",
    "# Step 2: Get the scores for each of the tickers (using a single function that takes in all the scores arguments needed)\n",
    "# Step 3: Collate the scores under the company name\n",
    "# Step 4: Identify outliers in scores and display the learning points\n",
    "# Note: For industry analysis (which is a direction we can approach the education from,) we can use the 'Peers' API to compare scores between top dogs, and let users see the difference in scores."
   ]
  },
  {
   "cell_type": "code",
   "execution_count": 37,
   "metadata": {},
   "outputs": [],
   "source": [
    "# Get number of patents registered by a company within a certain time period.\n",
    "def get_patent_no(ticker, from_date, to_date):\n",
    "    patentRes = finnhub_client.stock_uspto_patent(ticker, _from=from_date, to=to_date)\n",
    "    return len(patentRes['data'])\n",
    "\n",
    "# Get the sentiment score of a company within a certain time period. (daily for now)\n",
    "def get_sentiment_score(ticker, from_date, to_date):\n",
    "    sentimentRes = finnhub_client.news_sentiment(ticker, from_date, to_date)\n",
    "    dailyNegativeMentions = 0\n",
    "    dailyPositiveMentions = 0\n",
    "    averageScore = 0\n",
    "    for hourlyData in sentimentRes['reddit']:\n",
    "        dailyNegativeMentions += hourlyData['negativeMention']\n",
    "        dailyPositiveMentions += hourlyData['positiveMention']\n",
    "        averageScore += hourlyData['score']\n",
    "    return dailyNegativeMentions, dailyPositiveMentions, averageScore/24\n",
    "\n",
    "# Get the insider sentiment score of a company within a certain time period. (monthly) (from -100 to 100)\n",
    "def get_insider_sentiment_score(ticker, from_date, to_date):\n",
    "    res = finnhub_client.stock_insider_sentiment(ticker, from_date, to_date)['data']\n",
    "    avgInsiderSentiment = []\n",
    "    for monthlyData in res:\n",
    "        avgInsiderSentiment.append(monthlyData['mspr'])\n",
    "    return sum(avgInsiderSentiment)/len(avgInsiderSentiment)"
   ]
  },
  {
   "cell_type": "code",
   "execution_count": 40,
   "metadata": {},
   "outputs": [
    {
     "name": "stdout",
     "output_type": "stream",
     "text": [
      "-100.0\n"
     ]
    }
   ],
   "source": [
    "print(get_insider_sentiment_score('NVDA', startDate, endDate))"
   ]
  }
 ],
 "metadata": {
  "kernelspec": {
   "display_name": "Python 3",
   "language": "python",
   "name": "python3"
  },
  "language_info": {
   "codemirror_mode": {
    "name": "ipython",
    "version": 3
   },
   "file_extension": ".py",
   "mimetype": "text/x-python",
   "name": "python",
   "nbconvert_exporter": "python",
   "pygments_lexer": "ipython3",
   "version": "3.11.2"
  },
  "orig_nbformat": 4
 },
 "nbformat": 4,
 "nbformat_minor": 2
}
