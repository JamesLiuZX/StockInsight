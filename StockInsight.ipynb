{
 "cells": [
  {
   "cell_type": "code",
   "execution_count": 56,
   "metadata": {},
   "outputs": [
    {
     "name": "stdout",
     "output_type": "stream",
     "text": [
      "Requirement already satisfied: finnhub-python in /opt/homebrew/lib/python3.10/site-packages (2.4.18)\n",
      "Requirement already satisfied: requests>=2.22.0 in /opt/homebrew/lib/python3.10/site-packages (from finnhub-python) (2.28.2)\n",
      "Requirement already satisfied: charset-normalizer<4,>=2 in /opt/homebrew/lib/python3.10/site-packages (from requests>=2.22.0->finnhub-python) (3.1.0)\n",
      "Requirement already satisfied: idna<4,>=2.5 in /opt/homebrew/lib/python3.10/site-packages (from requests>=2.22.0->finnhub-python) (3.4)\n",
      "Requirement already satisfied: urllib3<1.27,>=1.21.1 in /opt/homebrew/lib/python3.10/site-packages (from requests>=2.22.0->finnhub-python) (1.26.15)\n",
      "Requirement already satisfied: certifi>=2017.4.17 in /opt/homebrew/lib/python3.10/site-packages (from requests>=2.22.0->finnhub-python) (2022.12.7)\n",
      "\n",
      "\u001b[1m[\u001b[0m\u001b[34;49mnotice\u001b[0m\u001b[1;39;49m]\u001b[0m\u001b[39;49m A new release of pip is available: \u001b[0m\u001b[31;49m23.1\u001b[0m\u001b[39;49m -> \u001b[0m\u001b[32;49m23.1.2\u001b[0m\n",
      "\u001b[1m[\u001b[0m\u001b[34;49mnotice\u001b[0m\u001b[1;39;49m]\u001b[0m\u001b[39;49m To update, run: \u001b[0m\u001b[32;49mpython3.10 -m pip install --upgrade pip\u001b[0m\n",
      "Requirement already satisfied: python-dotenv in /opt/homebrew/lib/python3.10/site-packages (1.0.0)\n",
      "\n",
      "\u001b[1m[\u001b[0m\u001b[34;49mnotice\u001b[0m\u001b[1;39;49m]\u001b[0m\u001b[39;49m A new release of pip is available: \u001b[0m\u001b[31;49m23.1\u001b[0m\u001b[39;49m -> \u001b[0m\u001b[32;49m23.1.2\u001b[0m\n",
      "\u001b[1m[\u001b[0m\u001b[34;49mnotice\u001b[0m\u001b[1;39;49m]\u001b[0m\u001b[39;49m To update, run: \u001b[0m\u001b[32;49mpython3.10 -m pip install --upgrade pip\u001b[0m\n"
     ]
    }
   ],
   "source": [
    "# Step 0: Setup the environment \n",
    "!pip install finnhub-python\n",
    "!pip install python-dotenv"
   ]
  },
  {
   "cell_type": "code",
   "execution_count": 61,
   "metadata": {},
   "outputs": [
    {
     "ename": "ModuleNotFoundError",
     "evalue": "No module named 'dotenv'",
     "output_type": "error",
     "traceback": [
      "\u001b[0;31m---------------------------------------------------------------------------\u001b[0m",
      "\u001b[0;31mModuleNotFoundError\u001b[0m                       Traceback (most recent call last)",
      "Cell \u001b[0;32mIn[61], line 3\u001b[0m\n\u001b[1;32m      1\u001b[0m \u001b[39mimport\u001b[39;00m \u001b[39mfinnhub\u001b[39;00m\n\u001b[1;32m      2\u001b[0m \u001b[39mimport\u001b[39;00m \u001b[39mos\u001b[39;00m\n\u001b[0;32m----> 3\u001b[0m \u001b[39mfrom\u001b[39;00m \u001b[39mdotenv\u001b[39;00m \u001b[39mimport\u001b[39;00m load_dotenv\n\u001b[1;32m      5\u001b[0m load_dotenv()\n\u001b[1;32m      6\u001b[0m local_api_key \u001b[39m=\u001b[39m os\u001b[39m.\u001b[39mgetenv(\u001b[39m\"\u001b[39m\u001b[39mFINNHUB_API_KEY\u001b[39m\u001b[39m\"\u001b[39m)\n",
      "\u001b[0;31mModuleNotFoundError\u001b[0m: No module named 'dotenv'"
     ]
    }
   ],
   "source": [
    "import finnhub\n",
    "import os\n",
    "from dotenv import load_dotenv\n",
    "\n",
    "load_dotenv()\n",
    "FINNHUB_API_KEY = os.getenv(\"FINNHUB_API_KEY\")\n",
    "finnhub_client = finnhub.Client(api_key=FINNHUB_API_KEY)"
   ]
  },
  {
   "cell_type": "code",
   "execution_count": null,
   "metadata": {},
   "outputs": [],
   "source": [
    "# Notes:\n",
    "# There's a lot of data present, but its hardly digestable for the average user. \n",
    "# We assign scores such as innovation score, profitability score, social media presence, growth score, etc. to each company\n",
    "# It's kind of like ranking universities, the data is not 100% accurate or transparent, but it gives a good idea of the company's performance\n",
    "# We can use this data to rank companies and then use that to rank the stocks of those companies, and generate learning points for each companies\n",
    "# I'll illustrate this with an example below\n",
    "\n",
    "# Respective APIs for each of the scores:\n",
    "# Innovation Score: USPTO patent count \n",
    "# Profitability Score: Earnings Calendar (revenue actual - revenue estimate) (Update: Not available)\n",
    "# Social Media Presence: Sentiment \n",
    "# Growth Score: Financial reports\n",
    "# Insider Trends: Insider Sentiment + Insider Trading\n",
    "\n",
    "# Note: USPTO and earnings calendar aren't updated this year, may need other APIs."
   ]
  },
  {
   "cell_type": "code",
   "execution_count": null,
   "metadata": {},
   "outputs": [
    {
     "name": "stdout",
     "output_type": "stream",
     "text": [
      "102\n",
      "{'INTC': 250, 'QCOM': 250, 'MU': 250, 'NVDA': 102, 'ADI': 60, 'TXN': 44, 'MCHP': 30, 'AMD': 10, 'AVGO': 7, 'MRVL': 0}\n"
     ]
    }
   ],
   "source": [
    "startDate = \"2022-02-01\"\n",
    "endDate = \"2022-06-01\"\n",
    "patentRes = finnhub_client.stock_uspto_patent('NVDA', _from=startDate, to=endDate) \n",
    "print(len(patentRes['data'])) #169 patents applied by NVDA over the last year \n",
    "\n",
    "# Get number of patents registered by a company within a certain time period.\n",
    "def get_patent_no(ticker, from_date, to_date):\n",
    "    patentRes = finnhub_client.stock_uspto_patent(ticker, _from=from_date, to=to_date)\n",
    "    return len(patentRes['data'])\n",
    "\n",
    "# Get innovative score relative to peers in the same industry\n",
    "peers = finnhub_client.company_peers('NVDA')\n",
    "peerPatentCount = []\n",
    "for peer in peers:\n",
    "    peerPatentCount.append(get_patent_no(peer, startDate, endDate))\n",
    "dictionary = dict(zip(peers, peerPatentCount))\n",
    "\n",
    "# Sort by patents applied for, and you see why NVDA > AMD\n",
    "sorted_dict = dict(sorted(dictionary.items(), key=lambda item: item[1], reverse=True))\n",
    "print(sorted_dict)\n"
   ]
  },
  {
   "cell_type": "code",
   "execution_count": null,
   "metadata": {},
   "outputs": [],
   "source": [
    "# Now, we want to collate all these scores under the company name, and then pick the outstanding variables (> 2s.d.) to display the learning points (why they're trending).\n",
    "# Step 1: Get the list of tickers from the S&P 500\n",
    "# Step 2: Get the scores for each of the tickers (using a single function that takes in all the scores arguments needed)\n",
    "# Step 3: Collate the scores under the company name\n",
    "# Step 4: Identify outliers in scores and display the learning points\n",
    "# Note: For industry analysis (which is a direction we can approach the education from,) we can use the 'Peers' API to compare scores between top dogs, and let users see the difference in scores."
   ]
  },
  {
   "cell_type": "code",
   "execution_count": null,
   "metadata": {},
   "outputs": [],
   "source": [
    "# Get number of patents registered by a company within a certain time period.\n",
    "def get_patent_no(ticker, from_date, to_date):\n",
    "    patentRes = finnhub_client.stock_uspto_patent(ticker, _from=from_date, to=to_date)\n",
    "    return len(patentRes['data'])\n",
    "\n",
    "# Get the sentiment score of a company within a certain time period. (daily for now)\n",
    "def get_sentiment_score(ticker, from_date, to_date):\n",
    "    sentimentRes = finnhub_client.news_sentiment(ticker, from_date, to_date)\n",
    "    dailyNegativeMentions = 0\n",
    "    dailyPositiveMentions = 0\n",
    "    averageScore = 0\n",
    "    for hourlyData in sentimentRes['reddit']:\n",
    "        dailyNegativeMentions += hourlyData['negativeMention']\n",
    "        dailyPositiveMentions += hourlyData['positiveMention']\n",
    "        averageScore += hourlyData['score']\n",
    "    return dailyNegativeMentions, dailyPositiveMentions, averageScore/24\n",
    "\n",
    "# Get the insider sentiment score of a company within a certain time period. (monthly) (from -100 to 100)\n",
    "def get_insider_sentiment_score(ticker, from_date, to_date):\n",
    "    res = finnhub_client.stock_insider_sentiment(ticker, from_date, to_date)['data']\n",
    "    avgInsiderSentiment = []\n",
    "    for monthlyData in res:\n",
    "        avgInsiderSentiment.append(monthlyData['mspr'])\n",
    "    return sum(avgInsiderSentiment)/len(avgInsiderSentiment)"
   ]
  },
  {
   "cell_type": "code",
   "execution_count": null,
   "metadata": {},
   "outputs": [
    {
     "name": "stdout",
     "output_type": "stream",
     "text": [
      "-39.028646699999996\n"
     ]
    }
   ],
   "source": [
    "print(get_insider_sentiment_score('NVDA', startDate, endDate))"
   ]
  }
 ],
 "metadata": {
  "kernelspec": {
   "display_name": "Python 3",
   "language": "python",
   "name": "python3"
  },
  "language_info": {
   "codemirror_mode": {
    "name": "ipython",
    "version": 3
   },
   "file_extension": ".py",
   "mimetype": "text/x-python",
   "name": "python",
   "nbconvert_exporter": "python",
   "pygments_lexer": "ipython3",
   "version": "3.11.2"
  },
  "orig_nbformat": 4
 },
 "nbformat": 4,
 "nbformat_minor": 2
}
