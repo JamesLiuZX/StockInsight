{
 "cells": [
  {
   "cell_type": "code",
   "execution_count": 3,
   "metadata": {},
   "outputs": [
    {
     "ename": "SyntaxError",
     "evalue": "invalid syntax (4193813432.py, line 1)",
     "output_type": "error",
     "traceback": [
      "\u001b[0;36m  Cell \u001b[0;32mIn[3], line 1\u001b[0;36m\u001b[0m\n\u001b[0;31m    pip3 install finnhub-python\u001b[0m\n\u001b[0m         ^\u001b[0m\n\u001b[0;31mSyntaxError\u001b[0m\u001b[0;31m:\u001b[0m invalid syntax\n"
     ]
    }
   ],
   "source": [
    "# Step 0: Setup the environment \n",
    "pip install finnhub-python\n",
    "\n",
    "import finnhub\n",
    "finnhub_client = finnhub.Client(api_key=\"cii0s8pr01qik1h4dmj0cii0s8pr01qik1h4dmjg\")"
   ]
  },
  {
   "cell_type": "code",
   "execution_count": null,
   "metadata": {},
   "outputs": [],
   "source": [
    "# Notes:\n",
    "# There's a lot of data present, but its hardly digestable for the average user. \n",
    "# We assign scores such as innovation score, profitability score, social media presence, growth score, etc. to each company\n",
    "# It's kind of like ranking universities, the data is not 100% accurate or transparent, but it gives a good idea of the company's performance\n",
    "# We can use this data to rank companies and then use that to rank the stocks of those companies, and generate learning points for each companies\n",
    "# I'll illustrate this with an example below\n",
    "\n",
    "# Respective APIs for each of the scores:\n",
    "# Innovation Score: USPTO patent count \n",
    "# Profitability Score: Earnings Calendar (revenue actual - revenue estimate)\n",
    "# Social Media Presence: Sentiment \n",
    "# Growth Score: Financial reports\n",
    "# Insider Trends: Insider Sentiment + Insider Trading\n"
   ]
  },
  {
   "cell_type": "code",
   "execution_count": 16,
   "metadata": {},
   "outputs": [
    {
     "name": "stdout",
     "output_type": "stream",
     "text": [
      "212\n"
     ]
    }
   ],
   "source": [
    "patentRes = finnhub_client.stock_uspto_patent('NVDA', _from=\"2020-06-01\", to=\"2020-09-01\")\n",
    "# print(patentRes)\n",
    "print(len(patentRes['data'])) #212 patents in the last 3 months"
   ]
  },
  {
   "cell_type": "code",
   "execution_count": null,
   "metadata": {},
   "outputs": [],
   "source": [
    "# Now, we want to collate all these scores under the company name, and then pick the outstanding variables (> 2s.d.) to display the learning points (why they're trending).\n",
    "# Step 1: Get the list of tickers from the S&P 500\n",
    "# Step 2: Get the scores for each of the tickers (using a single function that takes in all the scores arguments needed)\n",
    "# Step 3: Collate the scores under the company name\n",
    "# Step 4: Identify outliers in scores and display the learning points\n",
    "# Note: For industry analysis (which is a direction we can approach the education from,) we can use the 'Peers' API to compare scores between top dogs, and let users see the difference in scores."
   ]
  }
 ],
 "metadata": {
  "kernelspec": {
   "display_name": "Python 3",
   "language": "python",
   "name": "python3"
  },
  "language_info": {
   "codemirror_mode": {
    "name": "ipython",
    "version": 3
   },
   "file_extension": ".py",
   "mimetype": "text/x-python",
   "name": "python",
   "nbconvert_exporter": "python",
   "pygments_lexer": "ipython3",
   "version": "3.11.2"
  },
  "orig_nbformat": 4
 },
 "nbformat": 4,
 "nbformat_minor": 2
}
