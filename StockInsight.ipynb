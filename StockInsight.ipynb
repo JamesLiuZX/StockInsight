{
 "cells": [
  {
   "cell_type": "code",
   "execution_count": null,
   "metadata": {},
   "outputs": [],
   "source": [
    "# Step 0: Setup the environment \n",
    "!pip install finnhub-python"
   ]
  },
  {
   "cell_type": "code",
   "execution_count": null,
   "metadata": {},
   "outputs": [],
   "source": [
    "import finnhub\n",
    "finnhub_client = finnhub.Client(api_key=\"cii0s8pr01qik1h4dmj0cii0s8pr01qik1h4dmjg\")"
   ]
  },
  {
   "cell_type": "code",
   "execution_count": null,
   "metadata": {},
   "outputs": [],
   "source": [
    "# Notes:\n",
    "# There's a lot of data present, but its hardly digestable for the average user. \n",
    "# We assign scores such as innovation score, profitability score, social media presence, growth score, etc. to each company\n",
    "# It's kind of like ranking universities, the data is not 100% accurate or transparent, but it gives a good idea of the company's performance\n",
    "# We can use this data to rank companies and then use that to rank the stocks of those companies, and generate learning points for each companies\n",
    "# I'll illustrate this with an example below\n",
    "\n",
    "# Respective APIs for each of the scores:\n",
    "# Innovation Score: USPTO patent count \n",
    "# Profitability Score: Earnings Calendar (revenue actual - revenue estimate) (Update: Not available)\n",
    "# Social Media Presence: Sentiment \n",
    "# Growth Score: Financial reports\n",
    "# Insider Trends: Insider Sentiment + Insider Trading\n"
   ]
  },
  {
   "cell_type": "code",
   "execution_count": 28,
   "metadata": {},
   "outputs": [
    {
     "name": "stdout",
     "output_type": "stream",
     "text": [
      "102\n",
      "{'INTC': 250, 'QCOM': 250, 'MU': 250, 'NVDA': 102, 'ADI': 60, 'TXN': 44, 'MCHP': 30, 'AMD': 10, 'AVGO': 7, 'MRVL': 0}\n",
      "{'NVDA': 102, 'AVGO': 7, 'AMD': 10, 'TXN': 44, 'INTC': 250, 'QCOM': 250, 'ADI': 60, 'MU': 250, 'MRVL': 0, 'MCHP': 30}\n"
     ]
    }
   ],
   "source": [
    "startDate = \"2022-02-01\"\n",
    "endDate = \"2022-06-01\"\n",
    "patentRes = finnhub_client.stock_uspto_patent('NVDA', _from=startDate, to=endDate) \n",
    "print(len(patentRes['data'])) #169 patents applied by NVDA over the last year \n",
    "\n",
    "# Get number of patents registered by a company within a certain time period.\n",
    "def get_patent_no(ticker, from_date, to_date):\n",
    "    patentRes = finnhub_client.stock_uspto_patent(ticker, _from=from_date, to=to_date)\n",
    "    return len(patentRes['data'])\n",
    "\n",
    "# Get innovative score relative to peers in the same industry\n",
    "peers = finnhub_client.company_peers('NVDA')\n",
    "peerPatentCount = []\n",
    "for peer in peers:\n",
    "    peerPatentCount.append(get_patent_no(peer, startDate, endDate))\n",
    "dictionary = dict(zip(peers, peerPatentCount))\n",
    "\n",
    "# Sort by patents applied for, and you see why NVDA > AMD\n",
    "sorted_dict = dict(sorted(dictionary.items(), key=lambda item: item[1], reverse=True))\n",
    "print(sorted_dict)\n"
   ]
  },
  {
   "cell_type": "code",
   "execution_count": null,
   "metadata": {},
   "outputs": [],
   "source": [
    "# Now, we want to collate all these scores under the company name, and then pick the outstanding variables (> 2s.d.) to display the learning points (why they're trending).\n",
    "# Step 1: Get the list of tickers from the S&P 500\n",
    "# Step 2: Get the scores for each of the tickers (using a single function that takes in all the scores arguments needed)\n",
    "# Step 3: Collate the scores under the company name\n",
    "# Step 4: Identify outliers in scores and display the learning points\n",
    "# Note: For industry analysis (which is a direction we can approach the education from,) we can use the 'Peers' API to compare scores between top dogs, and let users see the difference in scores."
   ]
  },
  {
   "cell_type": "code",
   "execution_count": 17,
   "metadata": {},
   "outputs": [],
   "source": []
  },
  {
   "cell_type": "code",
   "execution_count": 18,
   "metadata": {},
   "outputs": [
    {
     "ename": "TypeError",
     "evalue": "Client.news_sentiment() takes 2 positional arguments but 4 were given",
     "output_type": "error",
     "traceback": [
      "\u001b[0;31m---------------------------------------------------------------------------\u001b[0m",
      "\u001b[0;31mTypeError\u001b[0m                                 Traceback (most recent call last)",
      "Cell \u001b[0;32mIn[18], line 1\u001b[0m\n\u001b[0;32m----> 1\u001b[0m \u001b[39mprint\u001b[39m(get_sentiment_score(\u001b[39m'\u001b[39;49m\u001b[39mNVDA\u001b[39;49m\u001b[39m'\u001b[39;49m, \u001b[39m'\u001b[39;49m\u001b[39m2020-06-01\u001b[39;49m\u001b[39m'\u001b[39;49m, \u001b[39m'\u001b[39;49m\u001b[39m2020-06-02\u001b[39;49m\u001b[39m'\u001b[39;49m))\n",
      "Cell \u001b[0;32mIn[17], line 8\u001b[0m, in \u001b[0;36mget_sentiment_score\u001b[0;34m(ticker, from_date, to_date)\u001b[0m\n\u001b[1;32m      7\u001b[0m \u001b[39mdef\u001b[39;00m \u001b[39mget_sentiment_score\u001b[39m(ticker, from_date, to_date):\n\u001b[0;32m----> 8\u001b[0m     sentimentRes \u001b[39m=\u001b[39m finnhub_client\u001b[39m.\u001b[39;49mnews_sentiment(ticker, from_date, to_date)\n\u001b[1;32m      9\u001b[0m     dailyNegativeMentions \u001b[39m=\u001b[39m \u001b[39m0\u001b[39m\n\u001b[1;32m     10\u001b[0m     dailyPositiveMentions \u001b[39m=\u001b[39m \u001b[39m0\u001b[39m\n",
      "\u001b[0;31mTypeError\u001b[0m: Client.news_sentiment() takes 2 positional arguments but 4 were given"
     ]
    }
   ],
   "source": [
    "print(get_sentiment_score('NVDA', '2020-06-01', '2020-06-02'))"
   ]
  }
 ],
 "metadata": {
  "kernelspec": {
   "display_name": "Python 3",
   "language": "python",
   "name": "python3"
  },
  "language_info": {
   "codemirror_mode": {
    "name": "ipython",
    "version": 3
   },
   "file_extension": ".py",
   "mimetype": "text/x-python",
   "name": "python",
   "nbconvert_exporter": "python",
   "pygments_lexer": "ipython3",
   "version": "3.11.2"
  },
  "orig_nbformat": 4
 },
 "nbformat": 4,
 "nbformat_minor": 2
}
